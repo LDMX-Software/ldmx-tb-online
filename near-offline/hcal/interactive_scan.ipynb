{
 "cells": [
  {
   "cell_type": "markdown",
   "id": "31cad4b9",
   "metadata": {},
   "source": [
    "## Interactive Notebook Template\n",
    "Streamlining parameter scan to plot workflow.\n",
    "\n",
    "### Start Up\n",
    "1. Connect to the DAQ computer with a port opened (1234 just example): `ssh -L 1234:localhost:1234 <daq-computer>`\n",
    "2. Launch jupyter notebook on that port: `jupyter-notebook --no-browser --port 1234`\n",
    "3. Copy one of the URLs into your local browser.\n",
    "\n",
    "### First Time\n",
    "Needs jupyter notebook installed on the daq computer.\n",
    "```\n",
    "python3 -m pip install --upgrade notebook matplotlib uproot\n",
    "```\n",
    "*Tip*: Use `--user` if you don't have sudo rights."
   ]
  },
  {
   "cell_type": "code",
   "execution_count": 79,
   "id": "e8449caf",
   "metadata": {},
   "outputs": [],
   "source": [
    "import os\n",
    "import subprocess\n",
    "import tempfile\n",
    "\n",
    "def pftool(cmds) :\n",
    "    \"\"\"Run the input list of commands through pftool\n",
    "    \n",
    "    Assumptions\n",
    "    -----------\n",
    "    - pftool is accessible to the shell (i.e. its in PATH)\n",
    "    \"\"\"\n",
    "    with tempfile.NamedTemporaryFile() as fp :\n",
    "        for c in cmds :\n",
    "            fp.write(c)\n",
    "        subprocess.run(f'pftool -s {fp.name}',shell=True,check=True)\n",
    "    # python deletes tempfile when its object is deleted\n",
    "\n",
    "def decode(fp, output='pd') :\n",
    "    \"\"\"Run singularity and decode the file at the input file path using the decoding script.\n",
    "    \n",
    "    Assumptions\n",
    "    -----------\n",
    "    - User is already in the ldmx environment (i.e. LDMX_BASE and LDMX_SINGULARITY_IMG are defined)\n",
    "    - this function is running from the directory with 'decode.py' in it.\n",
    "    - the ntuple file is put into this directory and is named 'adc_<raw_filename_no_extension>.root'\n",
    "        (originally copied from decode.py)\n",
    "    \"\"\"\n",
    "    if fp[0] == '~' :\n",
    "        fp = os.environ['HOME']+fp[1:]\n",
    "    fp = os.path.realpath(fp)\n",
    "    base_name = os.path.basename(fp).replace('.raw','')\n",
    "    dir_name  = os.path.realpath(os.path.dirname(fp))\n",
    "    subprocess.run(['singularity',\n",
    "                    'run',\n",
    "                    '--no-home',\n",
    "                    '--cleanenv',\n",
    "                    '--env',\n",
    "                    f'LDMX_BASE={os.environ[\"LDMX_BASE\"]}',\n",
    "                    '--bind', f'{os.environ[\"LDMX_BASE\"]},{dir_name}',\n",
    "                    f'{os.environ[\"LDMX_BASE\"]}/{os.environ[\"LDMX_SINGULARITY_IMG\"]}',\n",
    "                    '.', 'fire', 'decode.py', fp],check=True)\n",
    "    ntuples = f'adc_{base_name}.root'\n",
    "    with uproot.open(ntuples) as f :\n",
    "        data = f['ntuplizehgcroc/hgcroc'].arrays(library=output)\n",
    "    return data\n",
    "\n",
    "def scan_selections(df, param, min_val = 1, max_val = 5, step = 1, events_per_step = 100) :\n",
    "    \"\"\"Generate a dict of scan selections for the input dataframe and parameter\n",
    "    \n",
    "    Parameters\n",
    "    ----------\n",
    "    df : pandas.DataFrame\n",
    "        dataframe with scan data in it\n",
    "    param : str\n",
    "        Name of parameter that was scanned\n",
    "    min_val : int\n",
    "        Minimum value parameter used\n",
    "    max_val : int\n",
    "        maximum value parameter was allowed to attain\n",
    "    step : int\n",
    "        step parameter was changed by while scanning\n",
    "    events_per_step : int\n",
    "        number of events data was taken for each value of parameter\n",
    "    \"\"\"\n",
    "    return {\n",
    "        f'{param} = {val}' : (df['event']>i*events_per_step)&(df['event']<=(i+1)*events_per_step)\n",
    "        for i, val in enumerate(range(min_val,max_val+step,step))\n",
    "    }"
   ]
  },
  {
   "cell_type": "code",
   "execution_count": 80,
   "id": "ad4bbc79",
   "metadata": {},
   "outputs": [],
   "source": [
    "df = decode('~/ldmx/lund_8ts.raw')"
   ]
  },
  {
   "cell_type": "code",
   "execution_count": 81,
   "id": "f8022468",
   "metadata": {},
   "outputs": [
    {
     "data": {
      "image/png": "[encoded data removed]",
      "text/plain": [
       "<Figure size 432x288 with 1 Axes>"
      ]
     },
     "metadata": {
      "needs_background": "light"
     },
     "output_type": "display_data"
    }
   ],
   "source": [
    "import matplotlib.pyplot as plt\n",
    "for name, sl in scan_selections(df,'blah').items() :\n",
    "    plt.hist(df[sl]['adc'],label=name,range=(0,256),bins=256//4)\n",
    "plt.legend()\n",
    "plt.show()"
   ]
  },
  {
   "cell_type": "code",
   "execution_count": 82,
   "id": "12dc6ee1",
   "metadata": {},
   "outputs": [
    {
     "ename": "TypeError",
     "evalue": "a bytes-like object is required, not 'str'",
     "output_type": "error",
     "traceback": [
      "\u001b[0;31m---------------------------------------------------------------------------\u001b[0m",
      "\u001b[0;31mTypeError\u001b[0m                                 Traceback (most recent call last)",
      "\u001b[0;32m<ipython-input-82-aa6d3f7f87df>\u001b[0m in \u001b[0;36m<module>\u001b[0;34m\u001b[0m\n\u001b[1;32m      1\u001b[0m pftool([\n\u001b[0;32m----> 2\u001b[0;31m     \u001b[0;34m'status'\u001b[0m\u001b[0;34m,\u001b[0m\u001b[0;34m'exit'\u001b[0m\u001b[0;34m\u001b[0m\u001b[0;34m\u001b[0m\u001b[0m\n\u001b[0m\u001b[1;32m      3\u001b[0m ])\n",
      "\u001b[0;32m<ipython-input-79-96a2262b3df2>\u001b[0m in \u001b[0;36mpftool\u001b[0;34m(cmds)\u001b[0m\n\u001b[1;32m     12\u001b[0m     \u001b[0;32mwith\u001b[0m \u001b[0mtempfile\u001b[0m\u001b[0;34m.\u001b[0m\u001b[0mNamedTemporaryFile\u001b[0m\u001b[0;34m(\u001b[0m\u001b[0;34m)\u001b[0m \u001b[0;32mas\u001b[0m \u001b[0mfp\u001b[0m \u001b[0;34m:\u001b[0m\u001b[0;34m\u001b[0m\u001b[0;34m\u001b[0m\u001b[0m\n\u001b[1;32m     13\u001b[0m         \u001b[0;32mfor\u001b[0m \u001b[0mc\u001b[0m \u001b[0;32min\u001b[0m \u001b[0mcmds\u001b[0m \u001b[0;34m:\u001b[0m\u001b[0;34m\u001b[0m\u001b[0;34m\u001b[0m\u001b[0m\n\u001b[0;32m---> 14\u001b[0;31m             \u001b[0mfp\u001b[0m\u001b[0;34m.\u001b[0m\u001b[0mwrite\u001b[0m\u001b[0;34m(\u001b[0m\u001b[0mc\u001b[0m\u001b[0;34m)\u001b[0m\u001b[0;34m\u001b[0m\u001b[0;34m\u001b[0m\u001b[0m\n\u001b[0m\u001b[1;32m     15\u001b[0m         \u001b[0msubprocess\u001b[0m\u001b[0;34m.\u001b[0m\u001b[0mrun\u001b[0m\u001b[0;34m(\u001b[0m\u001b[0;34mf'pftool -s {fp.name}'\u001b[0m\u001b[0;34m,\u001b[0m\u001b[0mshell\u001b[0m\u001b[0;34m=\u001b[0m\u001b[0;32mTrue\u001b[0m\u001b[0;34m,\u001b[0m\u001b[0mcheck\u001b[0m\u001b[0;34m=\u001b[0m\u001b[0;32mTrue\u001b[0m\u001b[0;34m)\u001b[0m\u001b[0;34m\u001b[0m\u001b[0;34m\u001b[0m\u001b[0m\n\u001b[1;32m     16\u001b[0m     \u001b[0;31m# python deletes tempfile when its object is deleted\u001b[0m\u001b[0;34m\u001b[0m\u001b[0;34m\u001b[0m\u001b[0;34m\u001b[0m\u001b[0m\n",
      "\u001b[0;32m/usr/lib64/python3.6/tempfile.py\u001b[0m in \u001b[0;36mfunc_wrapper\u001b[0;34m(*args, **kwargs)\u001b[0m\n\u001b[1;32m    483\u001b[0m             \u001b[0;34m@\u001b[0m\u001b[0m_functools\u001b[0m\u001b[0;34m.\u001b[0m\u001b[0mwraps\u001b[0m\u001b[0;34m(\u001b[0m\u001b[0mfunc\u001b[0m\u001b[0;34m)\u001b[0m\u001b[0;34m\u001b[0m\u001b[0;34m\u001b[0m\u001b[0m\n\u001b[1;32m    484\u001b[0m             \u001b[0;32mdef\u001b[0m \u001b[0mfunc_wrapper\u001b[0m\u001b[0;34m(\u001b[0m\u001b[0;34m*\u001b[0m\u001b[0margs\u001b[0m\u001b[0;34m,\u001b[0m \u001b[0;34m**\u001b[0m\u001b[0mkwargs\u001b[0m\u001b[0;34m)\u001b[0m\u001b[0;34m:\u001b[0m\u001b[0;34m\u001b[0m\u001b[0;34m\u001b[0m\u001b[0m\n\u001b[0;32m--> 485\u001b[0;31m                 \u001b[0;32mreturn\u001b[0m \u001b[0mfunc\u001b[0m\u001b[0;34m(\u001b[0m\u001b[0;34m*\u001b[0m\u001b[0margs\u001b[0m\u001b[0;34m,\u001b[0m \u001b[0;34m**\u001b[0m\u001b[0mkwargs\u001b[0m\u001b[0;34m)\u001b[0m\u001b[0;34m\u001b[0m\u001b[0;34m\u001b[0m\u001b[0m\n\u001b[0m\u001b[1;32m    486\u001b[0m             \u001b[0;31m# Avoid closing the file as long as the wrapper is alive,\u001b[0m\u001b[0;34m\u001b[0m\u001b[0;34m\u001b[0m\u001b[0;34m\u001b[0m\u001b[0m\n\u001b[1;32m    487\u001b[0m             \u001b[0;31m# see issue #18879.\u001b[0m\u001b[0;34m\u001b[0m\u001b[0;34m\u001b[0m\u001b[0;34m\u001b[0m\u001b[0m\n",
      "\u001b[0;31mTypeError\u001b[0m: a bytes-like object is required, not 'str'"
     ]
    }
   ],
   "source": [
    "pftool([\n",
    "    'status','exit'\n",
    "])"
   ]
  },
  {
   "cell_type": "code",
   "execution_count": null,
   "id": "26ac782d",
   "metadata": {},
   "outputs": [],
   "source": []
  }
 ],
 "metadata": {
  "kernelspec": {
   "display_name": "Python 3",
   "language": "python",
   "name": "python3"
  },
  "language_info": {
   "codemirror_mode": {
    "name": "ipython",
    "version": 3
   },
   "file_extension": ".py",
   "mimetype": "text/x-python",
   "name": "python",
   "nbconvert_exporter": "python",
   "pygments_lexer": "ipython3",
   "version": "3.6.8"
  }
 },
 "nbformat": 4,
 "nbformat_minor": 5
}
